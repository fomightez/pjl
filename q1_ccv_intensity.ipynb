{
 "cells": [
  {
   "cell_type": "markdown",
   "metadata": {},
   "source": [
    "# Q1 CCV Intensity data processing\n",
    "\n",
    "Follow the guide below to process several file according to Q1.\n",
    "\n",
    "\n",
    "\n",
    "\n",
    "<div class=\"alert alert-block alert-warning\">\n",
    "<p>If you haven't used one of these notebooks before, they're basically web pages in which you can write, edit, and run live code. They're meant to encourage experimentation, so don't feel nervous. Just try running a few cells and see what happens!.</p>\n",
    "\n",
    "<p>\n",
    "    Some tips:\n",
    "    <ul>\n",
    "        <li>Code cells have boxes around them.</li>\n",
    "        <li>To run a code cell, click on the cell and either click the <i class=\"fa-play fa\"></i> button on the toolbar above, or then hit <b>Shift+Enter</b>. The <b>Shift+Enter</b> combo will also move you to the next cell, so it's a quick way to work through the notebook. Selecting from the menu above the toolbar, <b>Cell</b> > <b>Run All</b> is a shortcut to trigger attempting to run all the cells in the notebook.</li>\n",
    "        <li>While a cell is running a <b>*</b> appears in the square brackets next to the cell. Once the cell has finished running the asterisk will be replaced with a number.</li>\n",
    "        <li>In most cases you'll want to start from the top of notebook and work your way down running each cell in turn. Later cells might depend on the results of earlier ones.</li>\n",
    "        <li>To edit a code cell, just click on it and type stuff. Remember to run the cell once you've finished editing.</li>\n",
    "    </ul>\n",
    "</p>\n",
    "</div>\n",
    "\n",
    "----\n",
    "\n"
   ]
  },
  {
   "cell_type": "markdown",
   "metadata": {},
   "source": [
    "### STEP 1 : UPLOAD DATA FILES.\n",
    "\n",
    "This demonstration scenario will analyze `.csv` files provided by the user."
   ]
  },
  {
   "cell_type": "markdown",
   "metadata": {},
   "source": [
    "There are two options for uploading the input data to this remote session:\n",
    "\n",
    "A. In the simplest case you just drag and drop the `.csv` files.  \n",
    "The first option, which we'll call 'option A' to distinguish these options from the numbered processing steps, is to drag-and-drop the CSV files from your local machine into the main directory that is open in the navigation panel on the left when the session starts.\n",
    "To initiate the drag-and-drop, indicate the files in your system's local file navigator as if you would normally select files to move or copy to another folder. With your file selection, click and hold down the right mouse key and drag the files into the Jupyter window in the file navigation pane on the left.  \n",
    "When you've sucessfully positioned the dragged files over the panel, the panel will get highlighted with thick gray line around itself.  \n",
    "At this point you can realease the mouse button to drop the file or files. They will then upload.  \n",
    "A blue bar will appear at the bottom of this window noting the progress.   \n",
    "Give it a few seconds to upload the files, and then for the Jupyter window update the file listing.\n",
    "\n",
    "Your CSV files should now be uploaded and listed in the file navigation panel on the remote machine.\n",
    "\n",
    "If that covers all the CSV files you need uploaded, proceed on to Step #2 below to process the data files.\n",
    "\n",
    "However, if **you have a more complex data file situation**, such as files named for the date the data was collected in distinctive directories, you'll need the second option, 'option B'.  \n",
    "\n",
    "\n",
    "<details>\n",
    "  <summary>Click to expand and see 'option B' and more about the upload options.</summary>\n",
    "  \n",
    "B. The second option, 'option B' is to make an archival zip file on your local machine and then just upload that zip file. The processing steps look for any zip files present and then unpack them before processing the CVS files that may be present. This option gives you a convenient way to upload a lot of files and sub-folders that have stored CSV files in one easy step. The rest of the description of this option describes how to make such an archival zip file on your machine and upload it. See below for further explanation of why you may want to choose this option even if at first it seems like more work than option #1.\n",
    "\n",
    "See [here](zip_file_making_guide/making_zip_files.ipynb) for how to make a zip file with files and/or folders.\n",
    "\n",
    "Give the archival zip file a unique name that you track on your end along with the subsequent results of analyses coming from that data. This is because should an issue arise where you realize you forgot some data files from a certain date, you can easily just make a new archival zip file with a unique name and redo the analyses, tracking the new results associated with that input archival zip file.\n",
    "\n",
    "Once you have a zip file produced, you'll drag it from your local machine  into the main directory that is open in the navigation panel on the left when the session starts.\n",
    "\n",
    "To initiate the drag-and-drop, select the `.zip` file by clicking on it and hold ingdown the right mouse key. Now drag the files into the Jupyter window in the file navigation pane on the left.  \n",
    "When you've sucessfully positioned the dragged file over the panel, the panel will get highlighted with thick gray line around itself.  \n",
    "At this point you can realease the mouse button to drop the file indicator onto the remote session so that it will then upload. \n",
    "Give it a few seconds to upload the file, and then for the Jupyter window update the file listing.\n",
    "\n",
    "Your `.zip` files should now be uploaded and listed in the file navigation panel on the remote machine.\n",
    "\n",
    "You can repeat the drag-and-drop if you have multiple archival Zip files, but like not being able to place files with the same name in the main directory, you cannot have sub-folders that will have the same name once unpacked. As such, it is more prudent to only be uploading one Zip file.\n",
    "\n",
    "If that covers all the `.zip` files you need uploaded, proceed on to Step #2 below to unpack any archival `.zip` files and process the data files.\n",
    "\n",
    "#### More about the two upload options and the typical use cases \n",
    "\n",
    "This section will provide more information about the two data uploading options and the typical use cases to aid in understanding why there are two options and when you may want to use each, or help determine if you need to combine them.\n",
    "\n",
    "At the start there are no CSV files on the remote machine and any you upload into the main directory or subdirectory will be processed as input data if the file names end with the extension `.csv`.  \n",
    "Also, any archive Zip files uploaded to the main directory recognized by the file name ending with the extension`.zip` will be automatically unpacked, before the paths and names of all CSV files are collected.  \n",
    "The two options for uploading the input data to this remote session can also be combined, as long as you don't try to place a CSV file with the same name in the main directory.  \n",
    "\n",
    "Of the two options, the first option, 'option A', for uploading inout data is the more direct and will easily work with a handful of files where you know don't have the same name.  \n",
    "\n",
    "You can have CSV files with the same name as long as they will be in separate sub-directories on the remote computer. This is designed to handle the typical situation where you might have data files named the same while the specific dates the data was collected differ. Indeed, you may already have such data files on your machine, kept in separate folders with the date as part of the name. And you can use steps described under 'option B' to make an archival zip file on your local machine. You could make the sub-directories on the remote session and drag-and-drop the individual CSV files from your local machine into the appropriate directories. Technically, that route of uploading the data is a variation of 'option A'; however, if you find you will be needing to do this, you are better off combining them into an archival zip file on your local machine and following 'option B'. Following 'option B' will save you repeating steps in the long-run and will result in more easily reproduced analyses.\n",
    "</details> \n",
    "\n",
    "\n",
    "**You have to wait until the `.csv` files are uploaded BEFORE CONTINUING ON.**\n",
    "\n",
    "\n",
    "\n",
    "### STEP 2 : PROCESS THE DATA FILES.\n",
    "With the input files uploaded, you are now ready to process them by running this Jupyter notebook.  \n",
    "From the Jupyter tool bar in the upper left of this window, select `Run` > `Run All Cells`."
   ]
  },
  {
   "cell_type": "code",
   "execution_count": null,
   "metadata": {},
   "outputs": [],
   "source": [
    "%run scripts/q1_intensity_analysis.py"
   ]
  },
  {
   "cell_type": "code",
   "execution_count": null,
   "metadata": {},
   "outputs": [],
   "source": [
    "ls -lh"
   ]
  },
  {
   "cell_type": "markdown",
   "metadata": {},
   "source": [
    "**CLEANING TAKES TIME. WAIT UNTIL CONTENTS OF DIRECTORY ARE LISTED ABOVE TO MOVE ON.**  \n",
    "I put a cell listing of the contents of the directory in the cell above because cleaning up takes a while and otherwise seems like ready to go to Step #3 when actually not ready.\n",
    "Plus give the panel at the left time to update to reflect clean step done and input files removed.\n",
    "\n",
    "**You cannot preview the `.xlsx` file here.**\n",
    "**However, the tsv file can be opened to view by clicking on it in the file navigator on the left.**"
   ]
  },
  {
   "cell_type": "markdown",
   "metadata": {},
   "source": [
    "### STEP 3. COLLECT THE RESULT SPREADSHEET OR CSV.\n",
    "\n",
    "If everything looks like it ran well above, and the listing of the files in the directory in the cell just above is showing. Then you should be almost set. Two files are produced in the course of running the previous step. The name of them will look similar at the start like the following with the `<MONTH>` text in the time and date stamp replaced by an abbreviation reflecting the current month:\n",
    "\n",
    "```\n",
    "intensity_collected<MONTH>1420201914.xlsx\n",
    "```\n",
    "\n",
    "The CSV version will have a simalar name and will end if `.csv`.\n",
    "\n",
    "Choose which ever you prefer.\n",
    "\n",
    "**You should not need to save this particular notebook. EVERYTHING NEEDED SHOULD BE IN THE SPREADSHEET.**\n",
    "\n",
    "**Save the spreadsheet to your local computer.**\n",
    "\n",
    "Choose which ever you prefer. You can always convert either back to the other form.\n",
    "\n",
    "Save the file to your own computer by right-clicking on it in the file navigation panel on the right, and selecting `Download`. After a pause, a typical file download window should show up allowing you to save the file to your own computer.\n",
    "\n",
    "**This session will go stale without any activity in 10 minutes**, and so this is a **very important step if you don't want to have to upload your files to run things again**.\n",
    "\n",
    "----- \n",
    "\n",
    "Enjoy.\n"
   ]
  }
 ],
 "metadata": {
  "kernelspec": {
   "display_name": "Python 3 (ipykernel)",
   "language": "python",
   "name": "python3"
  },
  "language_info": {
   "codemirror_mode": {
    "name": "ipython",
    "version": 3
   },
   "file_extension": ".py",
   "mimetype": "text/x-python",
   "name": "python",
   "nbconvert_exporter": "python",
   "pygments_lexer": "ipython3",
   "version": "3.7.10"
  }
 },
 "nbformat": 4,
 "nbformat_minor": 4
}
