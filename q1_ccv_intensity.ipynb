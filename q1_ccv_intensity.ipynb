{
 "cells": [
  {
   "cell_type": "markdown",
   "metadata": {},
   "source": [
    "# Q1 CCV Intensity data processing\n",
    "\n",
    "Follow the guide below to process several file according to Q1.\n",
    "\n",
    "\n",
    "\n",
    "\n",
    "<div class=\"alert alert-block alert-warning\">\n",
    "<p>If you haven't used one of these notebooks before, they're basically web pages in which you can write, edit, and run live code. They're meant to encourage experimentation, so don't feel nervous. Just try running a few cells and see what happens!.</p>\n",
    "\n",
    "<p>\n",
    "    Some tips:\n",
    "    <ul>\n",
    "        <li>Code cells have boxes around them.</li>\n",
    "        <li>To run a code cell, click on the cell and either click the <i class=\"fa-play fa\"></i> button on the toolbar above, or then hit <b>Shift+Enter</b>. The <b>Shift+Enter</b> combo will also move you to the next cell, so it's a quick way to work through the notebook. Selecting from the menu above the toolbar, <b>Cell</b> > <b>Run All</b> is a shortcut to trigger attempting to run all the cells in the notebook.</li>\n",
    "        <li>While a cell is running a <b>*</b> appears in the square brackets next to the cell. Once the cell has finished running the asterisk will be replaced with a number.</li>\n",
    "        <li>In most cases you'll want to start from the top of notebook and work your way down running each cell in turn. Later cells might depend on the results of earlier ones.</li>\n",
    "        <li>To edit a code cell, just click on it and type stuff. Remember to run the cell once you've finished editing.</li>\n",
    "    </ul>\n",
    "</p>\n",
    "</div>\n",
    "\n",
    "----\n",
    "\n"
   ]
  },
  {
   "cell_type": "markdown",
   "metadata": {},
   "source": [
    "### STEP 1 : UPLOAD DATA FILES.\n",
    "\n",
    "This demonstration scenario will analyze `.csv` files provided by the user."
   ]
  },
  {
   "cell_type": "markdown",
   "metadata": {},
   "source": [
    "Click to select all of them at once on your  computer and drag **ALL** the Q1 `.csv` files from your computer into the file browser window to the left of this text.  \n",
    "When the files are correctly dragged into the pane, a dashed, gray outline will appear and you can release your mouse button.\n",
    "\n",
    "At that point the files will get uploaded.  \n",
    "A blue bar will appear at the bottom of this window noting the progress.  \n",
    "**You have to wait until the `.csv` files are uploaded BEFORE CONTINUING ON.**\n",
    "\n",
    "\n",
    "### STEP 2 : PROCESS THE DATA FILES.\n",
    "\n",
    "Click the next cell and then run it by typing `Shift-Enter`.  \n",
    "Alternatively after highlighting the next cell, it can be run by choosing `Run selected cells` from the `Run` menu above. Or after selecting, hit the `Play` icon on the toolbar just above this notebook."
   ]
  },
  {
   "cell_type": "code",
   "execution_count": null,
   "metadata": {},
   "outputs": [],
   "source": [
    "%run scripts/q1_intensity_analysis.py"
   ]
  },
  {
   "cell_type": "code",
   "execution_count": null,
   "metadata": {},
   "outputs": [],
   "source": [
    "ls -lh"
   ]
  },
  {
   "cell_type": "markdown",
   "metadata": {},
   "source": [
    "**CLEANING TAKES TIME. WAIT UNTIL CONTENTS OF DIRECTORY ARE LISTED ABOVE TO MOVE ON.**  \n",
    "I put a cell listing of the contents of the directory in the cell above because cleaning up takes a while and otherwise seems like ready to go to Step #3 when actually not ready.\n",
    "Plus give the panel at the left time to update to reflect clean step done and input files removed.\n",
    "\n",
    "**You cannot preview the `.xlsx` file here.**\n",
    "**However, the tsv file can be opened to view by clicking on it in the file navigator on the left.**"
   ]
  },
  {
   "cell_type": "markdown",
   "metadata": {},
   "source": [
    "### STEP 3. COLLECT THE RESULT SPREADSHEET OR CSV.\n",
    "\n",
    "If everything looks like it ran well above, and the listing of the files in the directory in the cell just above is showing. Then you should be almost set. Two files are produced in the course of running the previous step. The name of them will look similar at the start like the following with the `<MONTH>` text in the time and date stamp replaced by an abbreviation reflecting the current month:\n",
    "\n",
    "```\n",
    "intensity_collected<MONTH>1420201914.xlsx\n",
    "```\n",
    "\n",
    "The CSV version will have a simalar name and will end if `.csv`.\n",
    "\n",
    "Choose which ever you prefer.\n",
    "\n",
    "**You should not need to save this particular notebook. EVERYTHING NEEDED SHOULD BE IN THE SPREADSHEET.**\n",
    "\n",
    "**Save the spreadsheet to your local computer.**\n",
    "\n",
    "Choose which ever you prefer. You can always convert either back to the other form.\n",
    "\n",
    "Save the file to your own computer by right-clicking on it in the file navigation panel on the right, and selecting `Download`. After a pause, a typical file download window should show up allowing you to save the file to your own computer.\n",
    "\n",
    "**This session will go stale without any activity in 10 minutes**, and so this is a **very important step if you don't want to have to upload your files to run things again**.\n",
    "\n",
    "----- \n",
    "\n",
    "Enjoy.\n"
   ]
  }
 ],
 "metadata": {
  "kernelspec": {
   "display_name": "Python 3",
   "language": "python",
   "name": "python3"
  },
  "language_info": {
   "codemirror_mode": {
    "name": "ipython",
    "version": 3
   },
   "file_extension": ".py",
   "mimetype": "text/x-python",
   "name": "python",
   "nbconvert_exporter": "python",
   "pygments_lexer": "ipython3",
   "version": "3.7.10"
  }
 },
 "nbformat": 4,
 "nbformat_minor": 4
}
