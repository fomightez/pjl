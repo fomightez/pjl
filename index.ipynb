{
 "cells": [
  {
   "cell_type": "markdown",
   "id": "emerging-hundred",
   "metadata": {},
   "source": [
    "# Data processing assitance\n",
    "\n",
    "Collection of Jupyter notebooks to assist in processing data."
   ]
  },
  {
   "cell_type": "markdown",
   "id": "sustainable-ground",
   "metadata": {},
   "source": [
    "### Available Notebooks\n",
    "- [Q1 intensity](q1_ccv_intensity.ipynb)\n",
    "- [Q2 lifetimes](q2_ccv_lifetimes.ipynb)\n",
    "- [Q3 - NOT STARTED YET](nnn.ipynb)"
   ]
  }
 ],
 "metadata": {
  "kernelspec": {
   "display_name": "Python 3",
   "language": "python",
   "name": "python3"
  },
  "language_info": {
   "codemirror_mode": {
    "name": "ipython",
    "version": 3
   },
   "file_extension": ".py",
   "mimetype": "text/x-python",
   "name": "python",
   "nbconvert_exporter": "python",
   "pygments_lexer": "ipython3",
   "version": "3.7.10"
  }
 },
 "nbformat": 4,
 "nbformat_minor": 5
}
