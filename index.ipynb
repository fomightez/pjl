{
 "cells": [
  {
   "cell_type": "markdown",
   "metadata": {},
   "source": [
    "# Data processing assitance\n",
    "\n",
    "Collection of Jupyter notebooks to assist in processing data.\n",
    "\n",
    "Select a notebook from this index.\n",
    "\n",
    "----\n",
    "\n",
    "### Available Notebooks\n",
    "\n",
    "- [Q1 intensity](q1_ccv_intensity.ipynb)\n",
    "- [Q2 - NOT STARTED YET](nnn.ipynb)\n",
    "- [Q3 - NOT STARTED YET](nnn.ipynb)\n",
   ]
  }
 ],
 "metadata": {
  "kernelspec": {
   "display_name": "Python 3",
   "language": "python",
   "name": "python3"
  },
  "language_info": {
   "codemirror_mode": {
    "name": "ipython",
    "version": 3
   },
   "file_extension": ".py",
   "mimetype": "text/x-python",
   "name": "python",
   "nbconvert_exporter": "python",
   "pygments_lexer": "ipython3",
   "version": "3.7.10"
  }
 },
 "nbformat": 4,
 "nbformat_minor": 4
}
