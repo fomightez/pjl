{
 "cells": [
  {
   "cell_type": "markdown",
   "id": "c091e068-f02d-4267-83f8-dc8112ce8a06",
   "metadata": {},
   "source": [
    "# Guide to making Zip files\n",
    "\n",
    "For uploading data for the scripts here, one option is to use Zip files to easily add many individual files or even multiple directories to the remote session.  \n",
    "\n",
    "The Zip file you want to upload would need to be made first you your local computer. This guide shows how to do that on a Mac computer specifically.  \n",
    "The way to do it on a Windows PC computer will be very similar, just the specific operating system details and menu options will vary slightly.\n",
    "\n",
    "### Step #1. Select the files and/or directories\n",
    "\n",
    "You want to highlight the directories and files you need in the archive in your Mac's Finder.\n",
    "\n",
    "You'll need all the files and directories to combine into an archive to be in the same directory on your computer. To make it easier, you'll be better off **copying** them all to inside a **temporary** directory, if they aren't already in the same directory.\n",
    "\n",
    "These shortcuts will help you selecting multiple files and directories:\n",
    "\n",
    "- On a Mac to select files or directories that are not adjacent, hold down `command` as you click on the files or direcotries.\n",
    "\n",
    "- Hold down `shift` and click the first and last directory or file if you are going to select a lot of directories or file that occur next to each other in the file listing.\n",
    "\n",
    "You should end up with something like this:\n",
    "\n",
    "![showing selecting directories and files](selecting_dirs_n_files.png)\n",
    "\n",
    "Once all the files and directories you want in the same archive are highlighted, you are ready to continue on to the next step.\n",
    "\n",
    "### Step #2. Compress the selected directories & files.\n",
    "\n",
    "Right-click on at least one of the select items, and select 'Compress' from the menu that comes up.  \n",
    "This step will look something like this:\n",
    "\n",
    "![showing compressing directories and files in an archive](compressing_selected.png)\n",
    "\n",
    "After you click on the 'Compress' option in the menu, it should make the archive with the contents you've specified.\n",
    "\n",
    "### Step #3. Give the archive a unique and clear name.\n",
    "\n",
    "The laste stepshould result in making an archive file, named 'Archive.zip'. Select that file and rename it something more descriptive while you are aware of the contents. Keep the extension intact as the `.zip` extension will be recognized by scripts to signal it shoul dbe unpacked.\n",
    "\n",
    "\n",
    "### Step #4. Use the archive to upload.\n",
    "\n",
    "Now you should have a single file that you can drag-and-drop to upload easily to the remote session served via MyBinder.org. The script will automatically look for any `.zip` files first and uncompress them first.  \n",
    "You can use multiple `.zip` files for the upload as long as none of the unpacked files are going to clash. If they were packed in distinctively-named directories, even if they have the same file name, the files won't clash when unpacked.   \n",
    "Once all `.zip` files are unpacked, then the script searches for all the `.csv` files."
   ]
  }
 ],
 "metadata": {
  "kernelspec": {
   "display_name": "Python 3 (ipykernel)",
   "language": "python",
   "name": "python3"
  },
  "language_info": {
   "codemirror_mode": {
    "name": "ipython",
    "version": 3
   },
   "file_extension": ".py",
   "mimetype": "text/x-python",
   "name": "python",
   "nbconvert_exporter": "python",
   "pygments_lexer": "ipython3",
   "version": "3.7.10"
  }
 },
 "nbformat": 4,
 "nbformat_minor": 5
}
